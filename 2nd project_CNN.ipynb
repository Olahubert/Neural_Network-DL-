{
 "cells": [
  {
   "cell_type": "code",
   "execution_count": null,
   "id": "83a9f3e1",
   "metadata": {},
   "outputs": [],
   "source": []
  },
  {
   "cell_type": "code",
   "execution_count": 5,
   "id": "27d75b64",
   "metadata": {},
   "outputs": [],
   "source": [
    "import numpy as np\n",
    "import tensorflow as tf\n",
    "from tensorflow import keras\n",
    "import matplotlib.pyplot as plt"
   ]
  },
  {
   "cell_type": "code",
   "execution_count": 6,
   "id": "89a79903",
   "metadata": {},
   "outputs": [
    {
     "name": "stdout",
     "output_type": "stream",
     "text": [
      "Contents of base directory:\n",
      "['horses', 'humans']\n",
      "\n",
      "Contents of the horses directory:\n",
      "['horse01-0.png', 'horse01-1.png', 'horse01-2.png', 'horse01-3.png', 'horse01-4.png', 'horse01-5.png', 'horse01-6.png', 'horse01-7.png', 'horse01-8.png', 'horse01-9.png', 'horse02-0.png', 'horse02-1.png', 'horse02-2.png', 'horse02-3.png', 'horse02-4.png', 'horse02-5.png', 'horse02-6.png', 'horse02-7.png', 'horse02-8.png', 'horse02-9.png', 'horse03-0.png', 'horse03-1.png', 'horse03-2.png', 'horse03-3.png', 'horse03-4.png', 'horse03-5.png', 'horse03-6.png', 'horse03-7.png', 'horse03-8.png', 'horse03-9.png', 'horse04-0.png', 'horse04-1.png', 'horse04-2.png', 'horse04-3.png', 'horse04-4.png', 'horse04-5.png', 'horse04-6.png', 'horse04-7.png', 'horse04-8.png', 'horse04-9.png', 'horse05-0.png', 'horse05-1.png', 'horse05-2.png', 'horse05-3.png', 'horse05-4.png', 'horse05-5.png', 'horse05-6.png', 'horse05-7.png', 'horse05-8.png', 'horse05-9.png', 'horse06-0.png', 'horse06-1.png', 'horse06-2.png', 'horse06-3.png', 'horse06-4.png', 'horse06-5.png', 'horse06-6.png', 'horse06-7.png', 'horse06-8.png', 'horse06-9.png', 'horse07-0.png', 'horse07-1.png', 'horse07-2.png', 'horse07-3.png', 'horse07-4.png', 'horse07-5.png', 'horse07-6.png', 'horse07-7.png', 'horse07-8.png', 'horse07-9.png', 'horse08-0.png', 'horse08-1.png', 'horse08-2.png', 'horse08-3.png', 'horse08-4.png', 'horse08-5.png', 'horse08-6.png', 'horse08-7.png', 'horse08-8.png', 'horse08-9.png', 'horse09-0.png', 'horse09-1.png', 'horse09-2.png', 'horse09-3.png', 'horse09-4.png', 'horse09-5.png', 'horse09-6.png', 'horse09-7.png', 'horse09-8.png', 'horse09-9.png', 'horse10-0.png', 'horse10-1.png', 'horse10-2.png', 'horse10-3.png', 'horse10-4.png', 'horse10-5.png', 'horse10-6.png', 'horse10-7.png', 'horse10-8.png', 'horse10-9.png', 'horse11-0.png', 'horse11-1.png', 'horse11-2.png', 'horse11-3.png', 'horse11-4.png', 'horse11-5.png', 'horse11-6.png', 'horse11-7.png', 'horse11-8.png', 'horse11-9.png', 'horse12-0.png', 'horse12-1.png', 'horse12-2.png', 'horse12-3.png', 'horse12-4.png', 'horse12-5.png', 'horse12-6.png', 'horse12-7.png', 'horse12-8.png', 'horse12-9.png', 'horse13-0.png', 'horse13-1.png', 'horse13-2.png', 'horse13-3.png', 'horse13-4.png', 'horse13-5.png', 'horse13-6.png', 'horse13-7.png', 'horse13-8.png', 'horse13-9.png', 'horse14-0.png', 'horse14-1.png', 'horse14-2.png', 'horse14-3.png', 'horse14-4.png', 'horse14-5.png', 'horse14-6.png', 'horse14-7.png', 'horse14-8.png', 'horse14-9.png', 'horse15-0.png', 'horse15-1.png', 'horse15-2.png', 'horse15-3.png', 'horse15-4.png', 'horse15-5.png', 'horse15-6.png', 'horse15-7.png', 'horse15-8.png', 'horse15-9.png', 'horse16-0.png', 'horse16-1.png', 'horse16-2.png', 'horse16-3.png', 'horse16-4.png', 'horse16-5.png', 'horse16-6.png', 'horse16-7.png', 'horse16-8.png', 'horse16-9.png', 'horse17-0.png', 'horse17-1.png', 'horse17-2.png', 'horse17-3.png', 'horse17-4.png', 'horse17-5.png', 'horse17-6.png', 'horse17-7.png', 'horse17-8.png', 'horse17-9.png', 'horse18-0.png', 'horse18-1.png', 'horse18-2.png', 'horse18-3.png', 'horse18-4.png', 'horse18-5.png', 'horse18-6.png', 'horse18-7.png', 'horse18-8.png', 'horse18-9.png', 'horse19-0.png', 'horse19-1.png', 'horse19-2.png', 'horse19-3.png', 'horse19-4.png', 'horse19-5.png', 'horse19-6.png', 'horse19-7.png', 'horse19-8.png', 'horse19-9.png', 'horse20-0.png', 'horse20-1.png', 'horse20-2.png', 'horse20-3.png', 'horse20-4.png', 'horse20-5.png', 'horse20-6.png', 'horse20-7.png', 'horse20-8.png', 'horse20-9.png', 'horse21-0.png', 'horse21-1.png', 'horse21-2.png', 'horse21-3.png', 'horse21-4.png', 'horse21-5.png', 'horse21-6.png', 'horse21-7.png', 'horse21-8.png', 'horse21-9.png', 'horse22-0.png', 'horse22-1.png', 'horse22-2.png', 'horse22-3.png', 'horse22-4.png', 'horse22-5.png', 'horse22-6.png', 'horse22-7.png', 'horse22-8.png', 'horse22-9.png', 'horse23-0.png', 'horse23-1.png', 'horse23-2.png', 'horse23-3.png', 'horse23-4.png', 'horse23-5.png', 'horse23-6.png', 'horse23-7.png', 'horse23-8.png', 'horse23-9.png', 'horse24-0.png', 'horse24-1.png', 'horse24-2.png', 'horse24-3.png', 'horse24-4.png', 'horse24-5.png', 'horse24-6.png', 'horse24-7.png', 'horse24-8.png', 'horse24-9.png', 'horse25-0.png', 'horse25-1.png', 'horse25-2.png', 'horse25-3.png', 'horse25-4.png', 'horse25-5.png', 'horse25-6.png', 'horse25-7.png', 'horse25-8.png', 'horse25-9.png', 'horse26-0.png', 'horse26-1.png', 'horse26-2.png', 'horse26-3.png', 'horse26-4.png', 'horse26-5.png', 'horse26-6.png', 'horse26-7.png', 'horse26-8.png', 'horse26-9.png', 'horse27-0.png', 'horse27-1.png', 'horse27-2.png', 'horse27-3.png', 'horse27-4.png', 'horse27-5.png', 'horse27-6.png', 'horse27-7.png', 'horse27-8.png', 'horse27-9.png', 'horse28-0.png', 'horse28-1.png', 'horse28-2.png', 'horse28-3.png', 'horse28-4.png', 'horse28-5.png', 'horse28-6.png', 'horse28-7.png', 'horse28-8.png', 'horse28-9.png', 'horse29-0.png', 'horse29-1.png', 'horse29-2.png', 'horse29-3.png', 'horse29-4.png', 'horse29-5.png', 'horse29-6.png', 'horse29-7.png', 'horse29-8.png', 'horse29-9.png', 'horse30-0.png', 'horse30-1.png', 'horse30-2.png', 'horse30-3.png', 'horse30-4.png', 'horse30-5.png', 'horse30-6.png', 'horse30-7.png', 'horse30-8.png', 'horse30-9.png', 'horse31-0.png', 'horse31-1.png', 'horse31-2.png', 'horse31-3.png', 'horse31-4.png', 'horse31-5.png', 'horse31-6.png', 'horse31-7.png', 'horse31-8.png', 'horse31-9.png', 'horse32-0.png', 'horse32-1.png', 'horse32-2.png', 'horse32-3.png', 'horse32-4.png', 'horse32-5.png', 'horse32-6.png', 'horse32-7.png', 'horse32-8.png', 'horse32-9.png', 'horse33-0.png', 'horse33-1.png', 'horse33-2.png', 'horse33-3.png', 'horse33-4.png', 'horse33-5.png', 'horse33-6.png', 'horse33-7.png', 'horse33-8.png', 'horse33-9.png', 'horse34-0.png', 'horse34-1.png', 'horse34-2.png', 'horse34-3.png', 'horse34-4.png', 'horse34-5.png', 'horse34-6.png', 'horse34-7.png', 'horse34-8.png', 'horse34-9.png', 'horse35-0.png', 'horse35-1.png', 'horse35-2.png', 'horse35-3.png', 'horse35-4.png', 'horse35-5.png', 'horse35-6.png', 'horse35-7.png', 'horse35-8.png', 'horse35-9.png', 'horse36-0.png', 'horse36-1.png', 'horse36-2.png', 'horse36-3.png', 'horse36-4.png', 'horse36-5.png', 'horse36-6.png', 'horse36-7.png', 'horse36-8.png', 'horse36-9.png', 'horse37-0.png', 'horse37-1.png', 'horse37-2.png', 'horse37-3.png', 'horse37-4.png', 'horse37-5.png', 'horse37-6.png', 'horse37-7.png', 'horse37-8.png', 'horse37-9.png', 'horse38-0.png', 'horse38-1.png', 'horse38-2.png', 'horse38-3.png', 'horse38-4.png', 'horse38-5.png', 'horse38-6.png', 'horse38-7.png', 'horse38-8.png', 'horse38-9.png', 'horse39-0.png', 'horse39-1.png', 'horse39-2.png', 'horse39-3.png', 'horse39-4.png', 'horse39-5.png', 'horse39-6.png', 'horse39-7.png', 'horse39-8.png', 'horse39-9.png', 'horse40-0.png', 'horse40-1.png', 'horse40-2.png', 'horse40-3.png', 'horse40-4.png', 'horse40-5.png', 'horse40-6.png', 'horse40-7.png', 'horse40-8.png', 'horse40-9.png', 'horse41-0.png', 'horse41-1.png', 'horse41-2.png', 'horse41-3.png', 'horse41-4.png', 'horse41-5.png', 'horse41-6.png', 'horse41-7.png', 'horse41-8.png', 'horse41-9.png', 'horse42-0.png', 'horse42-1.png', 'horse42-2.png', 'horse42-3.png', 'horse42-4.png', 'horse42-5.png', 'horse42-6.png', 'horse42-7.png', 'horse42-8.png', 'horse42-9.png', 'horse43-0.png', 'horse43-1.png', 'horse43-2.png', 'horse43-3.png', 'horse43-4.png', 'horse43-5.png', 'horse43-6.png', 'horse43-7.png', 'horse43-8.png', 'horse43-9.png', 'horse44-0.png', 'horse44-1.png', 'horse44-2.png', 'horse44-3.png', 'horse44-4.png', 'horse44-5.png', 'horse44-6.png', 'horse44-7.png', 'horse44-8.png', 'horse44-9.png', 'horse45-0.png', 'horse45-1.png', 'horse45-2.png', 'horse45-3.png', 'horse45-4.png', 'horse45-5.png', 'horse45-6.png', 'horse45-7.png', 'horse45-8.png', 'horse45-9.png', 'horse46-0.png', 'horse46-1.png', 'horse46-2.png', 'horse46-3.png', 'horse46-4.png', 'horse46-5.png', 'horse46-6.png', 'horse46-7.png', 'horse46-8.png', 'horse46-9.png', 'horse47-0.png', 'horse47-1.png', 'horse47-2.png', 'horse47-3.png', 'horse47-4.png', 'horse47-5.png', 'horse47-6.png', 'horse47-7.png', 'horse47-8.png', 'horse47-9.png', 'horse48-0.png', 'horse48-1.png', 'horse48-2.png', 'horse48-3.png', 'horse48-4.png', 'horse48-5.png', 'horse48-6.png', 'horse48-7.png', 'horse48-8.png', 'horse48-9.png', 'horse49-0.png', 'horse49-1.png', 'horse49-2.png', 'horse49-3.png', 'horse49-4.png', 'horse49-5.png', 'horse49-6.png', 'horse49-7.png', 'horse49-8.png', 'horse49-9.png', 'horse50-0.png', 'horse50-1.png', 'horse50-2.png', 'horse50-3.png', 'horse50-4.png', 'horse50-5.png', 'horse50-6.png', 'horse50-7.png', 'horse50-8.png', 'horse50-9.png']\n",
      "\n",
      "Contents of humans directory:\n",
      "['human01-00.png', 'human01-01.png', 'human01-02.png', 'human01-03.png', 'human01-04.png', 'human01-05.png', 'human01-06.png', 'human01-07.png', 'human01-08.png', 'human01-09.png', 'human01-10.png', 'human01-11.png', 'human01-12.png', 'human01-13.png', 'human01-14.png', 'human01-15.png', 'human01-16.png', 'human01-17.png', 'human01-18.png', 'human01-19.png', 'human01-20.png', 'human01-21.png', 'human01-22.png', 'human01-23.png', 'human01-24.png', 'human01-25.png', 'human01-26.png', 'human01-27.png', 'human01-28.png', 'human01-29.png', 'human01-30.png', 'human02-00.png', 'human02-01.png', 'human02-02.png', 'human02-03.png', 'human02-04.png', 'human02-05.png', 'human02-06.png', 'human02-07.png', 'human02-08.png', 'human02-09.png', 'human02-10.png', 'human02-11.png', 'human02-12.png', 'human02-13.png', 'human02-14.png', 'human02-15.png', 'human02-16.png', 'human02-17.png', 'human02-18.png', 'human02-19.png', 'human02-20.png', 'human02-21.png', 'human02-22.png', 'human02-23.png', 'human02-24.png', 'human02-25.png', 'human02-26.png', 'human02-27.png', 'human02-28.png', 'human02-29.png', 'human02-30.png', 'human03-00.png', 'human03-01.png', 'human03-02.png', 'human03-03.png', 'human03-04.png', 'human03-05.png', 'human03-06.png', 'human03-07.png', 'human03-08.png', 'human03-09.png', 'human03-10.png', 'human03-11.png', 'human03-12.png', 'human03-13.png', 'human03-14.png', 'human03-15.png', 'human03-16.png', 'human03-17.png', 'human03-18.png', 'human03-19.png', 'human03-20.png', 'human03-21.png', 'human03-22.png', 'human03-23.png', 'human03-24.png', 'human03-25.png', 'human03-26.png', 'human03-27.png', 'human03-28.png', 'human03-29.png', 'human03-30.png', 'human04-00.png', 'human04-01.png', 'human04-02.png', 'human04-03.png', 'human04-04.png', 'human04-05.png', 'human04-06.png', 'human04-07.png', 'human04-08.png', 'human04-09.png', 'human04-10.png', 'human04-11.png', 'human04-12.png', 'human04-13.png', 'human04-14.png', 'human04-15.png', 'human04-16.png', 'human04-17.png', 'human04-18.png', 'human04-19.png', 'human04-20.png', 'human04-21.png', 'human04-22.png', 'human04-23.png', 'human04-24.png', 'human04-25.png', 'human04-26.png', 'human04-27.png', 'human04-28.png', 'human04-29.png', 'human04-30.png', 'human05-00.png', 'human05-01.png', 'human05-02.png', 'human05-03.png', 'human05-04.png', 'human05-05.png', 'human05-06.png', 'human05-07.png', 'human05-08.png', 'human05-09.png', 'human05-10.png', 'human05-11.png', 'human05-12.png', 'human05-13.png', 'human05-14.png', 'human05-15.png', 'human05-16.png', 'human05-17.png', 'human05-18.png', 'human05-19.png', 'human05-20.png', 'human05-21.png', 'human05-22.png', 'human05-23.png', 'human05-24.png', 'human05-25.png', 'human05-26.png', 'human05-27.png', 'human05-28.png', 'human05-29.png', 'human05-30.png', 'human06-00.png', 'human06-01.png', 'human06-02.png', 'human06-03.png', 'human06-04.png', 'human06-05.png', 'human06-06.png', 'human06-07.png', 'human06-08.png', 'human06-09.png', 'human06-10.png', 'human06-11.png', 'human06-12.png', 'human06-13.png', 'human06-14.png', 'human06-15.png', 'human06-16.png', 'human06-17.png', 'human06-18.png', 'human06-19.png', 'human06-20.png', 'human06-21.png', 'human06-22.png', 'human06-23.png', 'human06-24.png', 'human06-25.png', 'human06-26.png', 'human06-27.png', 'human06-28.png', 'human06-29.png', 'human06-30.png', 'human07-00.png', 'human07-01.png', 'human07-02.png', 'human07-03.png', 'human07-04.png', 'human07-05.png', 'human07-06.png', 'human07-07.png', 'human07-08.png', 'human07-09.png', 'human07-10.png', 'human07-11.png', 'human07-12.png', 'human07-13.png', 'human07-14.png', 'human07-15.png', 'human07-16.png', 'human07-17.png', 'human07-18.png', 'human07-19.png', 'human07-20.png', 'human07-21.png', 'human07-22.png', 'human07-23.png', 'human07-24.png', 'human07-25.png', 'human07-26.png', 'human07-27.png', 'human07-28.png', 'human07-29.png', 'human07-30.png', 'human08-00.png', 'human08-01.png', 'human08-02.png', 'human08-03.png', 'human08-04.png', 'human08-05.png', 'human08-06.png', 'human08-07.png', 'human08-08.png', 'human08-09.png', 'human08-10.png', 'human08-11.png', 'human08-12.png', 'human08-13.png', 'human08-14.png', 'human08-15.png', 'human08-16.png', 'human08-17.png', 'human08-18.png', 'human08-19.png', 'human08-20.png', 'human08-21.png', 'human08-22.png', 'human08-23.png', 'human08-24.png', 'human08-25.png', 'human08-26.png', 'human08-27.png', 'human08-28.png', 'human08-29.png', 'human08-30.png', 'human09-00.png', 'human09-01.png', 'human09-02.png', 'human09-03.png', 'human09-04.png', 'human09-05.png', 'human09-06.png', 'human09-07.png', 'human09-08.png', 'human09-09.png', 'human09-10.png', 'human09-11.png', 'human09-12.png', 'human09-13.png', 'human09-14.png', 'human09-15.png', 'human09-16.png', 'human09-17.png', 'human09-18.png', 'human09-19.png', 'human09-20.png', 'human09-21.png', 'human09-22.png', 'human09-23.png', 'human09-24.png', 'human09-25.png', 'human09-26.png', 'human09-27.png', 'human09-28.png', 'human09-29.png', 'human09-30.png', 'human10-00.png', 'human10-01.png', 'human10-02.png', 'human10-03.png', 'human10-04.png', 'human10-05.png', 'human10-06.png', 'human10-07.png', 'human10-08.png', 'human10-09.png', 'human10-10.png', 'human10-11.png', 'human10-12.png', 'human10-13.png', 'human10-14.png', 'human10-15.png', 'human10-16.png', 'human10-17.png', 'human10-18.png', 'human10-19.png', 'human10-20.png', 'human10-21.png', 'human10-22.png', 'human10-23.png', 'human10-24.png', 'human10-25.png', 'human10-26.png', 'human10-27.png', 'human10-28.png', 'human10-29.png', 'human10-30.png', 'human11-00.png', 'human11-01.png', 'human11-02.png', 'human11-03.png', 'human11-04.png', 'human11-05.png', 'human11-06.png', 'human11-07.png', 'human11-08.png', 'human11-09.png', 'human11-10.png', 'human11-11.png', 'human11-12.png', 'human11-13.png', 'human11-14.png', 'human11-15.png', 'human11-16.png', 'human11-17.png', 'human11-18.png', 'human11-19.png', 'human11-20.png', 'human11-21.png', 'human11-22.png', 'human11-23.png', 'human11-24.png', 'human11-25.png', 'human11-26.png', 'human11-27.png', 'human11-28.png', 'human11-29.png', 'human11-30.png', 'human12-00.png', 'human12-01.png', 'human12-02.png', 'human12-03.png', 'human12-04.png', 'human12-05.png', 'human12-06.png', 'human12-07.png', 'human12-08.png', 'human12-09.png', 'human12-10.png', 'human12-11.png', 'human12-12.png', 'human12-13.png', 'human12-14.png', 'human12-15.png', 'human12-16.png', 'human12-17.png', 'human12-18.png', 'human12-19.png', 'human12-20.png', 'human12-21.png', 'human12-22.png', 'human12-23.png', 'human12-24.png', 'human12-25.png', 'human12-26.png', 'human12-27.png', 'human12-28.png', 'human12-29.png', 'human12-30.png', 'human13-00.png', 'human13-01.png', 'human13-02.png', 'human13-03.png', 'human13-04.png', 'human13-05.png', 'human13-06.png', 'human13-07.png', 'human13-08.png', 'human13-09.png', 'human13-10.png', 'human13-11.png', 'human13-12.png', 'human13-13.png', 'human13-14.png', 'human13-15.png', 'human13-16.png', 'human13-17.png', 'human13-18.png', 'human13-19.png', 'human13-20.png', 'human13-21.png', 'human13-22.png', 'human13-23.png', 'human13-24.png', 'human13-25.png', 'human13-26.png', 'human13-27.png', 'human13-28.png', 'human13-29.png', 'human13-30.png', 'human14-00.png', 'human14-01.png', 'human14-02.png', 'human14-03.png', 'human14-04.png', 'human14-05.png', 'human14-06.png', 'human14-07.png', 'human14-08.png', 'human14-09.png', 'human14-10.png', 'human14-11.png', 'human14-12.png', 'human14-13.png', 'human14-14.png', 'human14-15.png', 'human14-16.png', 'human14-17.png', 'human14-18.png', 'human14-19.png', 'human14-20.png', 'human14-21.png', 'human14-22.png', 'human14-23.png', 'human14-24.png', 'human14-25.png', 'human14-26.png', 'human14-27.png', 'human14-28.png', 'human14-29.png', 'human14-30.png', 'human15-00.png', 'human15-01.png', 'human15-02.png', 'human15-03.png', 'human15-04.png', 'human15-05.png', 'human15-06.png', 'human15-07.png', 'human15-08.png', 'human15-09.png', 'human15-10.png', 'human15-11.png', 'human15-12.png', 'human15-13.png', 'human15-14.png', 'human15-15.png', 'human15-16.png', 'human15-17.png', 'human15-18.png', 'human15-19.png', 'human15-20.png', 'human15-21.png', 'human15-22.png', 'human15-23.png', 'human15-24.png', 'human15-25.png', 'human15-26.png', 'human15-27.png', 'human15-28.png', 'human15-29.png', 'human15-30.png', 'human16-00.png', 'human16-01.png', 'human16-02.png', 'human16-03.png', 'human16-04.png', 'human16-05.png', 'human16-06.png', 'human16-07.png', 'human16-08.png', 'human16-09.png', 'human16-10.png', 'human16-11.png', 'human16-12.png', 'human16-13.png', 'human16-14.png', 'human16-15.png', 'human16-16.png', 'human16-17.png', 'human16-18.png', 'human16-19.png', 'human16-20.png', 'human16-21.png', 'human16-22.png', 'human16-23.png', 'human16-24.png', 'human16-25.png', 'human16-26.png', 'human16-27.png', 'human16-28.png', 'human16-29.png', 'human16-30.png', 'human17-00.png', 'human17-01.png', 'human17-02.png', 'human17-03.png', 'human17-04.png', 'human17-05.png', 'human17-06.png', 'human17-07.png', 'human17-08.png', 'human17-09.png', 'human17-10.png', 'human17-11.png', 'human17-12.png', 'human17-13.png', 'human17-14.png', 'human17-15.png', 'human17-16.png', 'human17-17.png', 'human17-18.png', 'human17-19.png', 'human17-20.png', 'human17-21.png', 'human17-22.png', 'human17-23.png', 'human17-24.png', 'human17-25.png', 'human17-26.png', 'human17-27.png', 'human17-28.png', 'human17-29.png', 'human17-30.png']\n"
     ]
    }
   ],
   "source": [
    "#Locating the training dataset\n",
    "import os\n",
    "\n",
    "base_dir = 'horse-or-human_Training Dataset'\n",
    "\n",
    "print(\"Contents of base directory:\")\n",
    "print(os.listdir(base_dir))\n",
    "\n",
    "print(\"\\nContents of the horses directory:\")\n",
    "print(os.listdir(f'{base_dir}/horses'))\n",
    "\n",
    "print(\"\\nContents of humans directory:\")\n",
    "print(os.listdir(f'{base_dir}/humans'))\n",
    "\n",
    "\n",
    "\n",
    "\n"
   ]
  },
  {
   "cell_type": "code",
   "execution_count": 7,
   "id": "8fb8423c",
   "metadata": {},
   "outputs": [
    {
     "name": "stdout",
     "output_type": "stream",
     "text": [
      "Contents of base directory:\n",
      "['horses', 'humans']\n",
      "\n",
      "Contents of the horses directory:\n",
      "['horse1-000.png', 'horse1-105.png', 'horse1-122.png', 'horse1-127.png', 'horse1-170.png', 'horse1-204.png', 'horse1-224.png', 'horse1-241.png', 'horse1-264.png', 'horse1-276.png', 'horse1-298.png', 'horse1-335.png', 'horse1-384.png', 'horse1-411.png', 'horse1-436.png', 'horse1-455.png', 'horse1-484.png', 'horse1-510.png', 'horse1-539.png', 'horse1-554.png', 'horse1-568.png', 'horse2-011.png', 'horse2-040.png', 'horse2-069.png', 'horse2-112.png', 'horse2-136.png', 'horse2-183.png', 'horse2-201.png', 'horse2-218.png', 'horse2-224.png', 'horse2-254.png', 'horse2-269.png', 'horse2-294.png', 'horse2-314.png', 'horse2-368.png', 'horse2-383.png', 'horse2-412.png', 'horse2-441.png', 'horse2-544.png', 'horse2-582.png', 'horse2-596.png', 'horse3-011.png', 'horse3-026.png', 'horse3-055.png', 'horse3-070.png', 'horse3-099.png', 'horse3-141.png', 'horse3-171.png', 'horse3-198.png', 'horse3-217.png', 'horse3-255.png', 'horse3-326.png', 'horse3-397.png', 'horse3-416.png', 'horse3-440.png', 'horse3-469.png', 'horse3-484.png', 'horse3-498.png', 'horse3-521.png', 'horse3-541.png', 'horse3-584.png', 'horse4-000.png', 'horse4-014.png', 'horse4-043.png', 'horse4-072.png', 'horse4-102.png', 'horse4-159.png', 'horse4-188.png', 'horse4-202.png', 'horse4-232.png', 'horse4-302.png', 'horse4-345.png', 'horse4-389.png', 'horse4-403.png', 'horse4-439.png', 'horse4-468.png', 'horse4-495.png', 'horse4-501.png', 'horse4-503.png', 'horse4-530.png', 'horse4-541.png', 'horse4-548.png', 'horse4-556.png', 'horse4-588.png', 'horse4-599.png', 'horse5-002.png', 'horse5-018.png', 'horse5-032.png', 'horse5-060.png', 'horse5-065.png', 'horse5-076.png', 'horse5-083.png', 'horse5-100.png', 'horse5-103.png', 'horse5-123.png', 'horse5-164.png', 'horse5-181.png', 'horse5-192.png', 'horse5-203.png', 'horse5-235.png', 'horse5-259.png', 'horse5-275.png', 'horse5-303.png', 'horse5-342.png', 'horse5-360.png', 'horse5-400.png', 'horse5-402.png', 'horse5-405.png', 'horse5-458.png', 'horse5-478.png', 'horse5-488.png', 'horse5-504.png', 'horse5-514.png', 'horse5-519.png', 'horse5-550.png', 'horse5-565.png', 'horse5-589.png', 'horse6-004.png', 'horse6-064.png', 'horse6-089.png', 'horse6-153.png', 'horse6-161.png', 'horse6-198.png', 'horse6-218.png', 'horse6-275.png', 'horse6-345.png', 'horse6-403.png', 'horse6-544.png']\n",
      "\n",
      "Contents of humans directory:\n",
      "['valhuman01-00.png', 'valhuman01-01.png', 'valhuman01-02.png', 'valhuman01-03.png', 'valhuman01-04.png', 'valhuman01-05.png', 'valhuman01-06.png', 'valhuman01-07.png', 'valhuman01-08.png', 'valhuman01-09.png', 'valhuman01-10.png', 'valhuman01-11.png', 'valhuman01-12.png', 'valhuman01-13.png', 'valhuman01-14.png', 'valhuman01-15.png', 'valhuman01-16.png', 'valhuman01-17.png', 'valhuman01-18.png', 'valhuman01-19.png', 'valhuman01-20.png', 'valhuman01-21.png', 'valhuman01-22.png', 'valhuman01-23.png', 'valhuman01-24.png', 'valhuman02-00.png', 'valhuman02-01.png', 'valhuman02-02.png', 'valhuman02-03.png', 'valhuman02-04.png', 'valhuman02-05.png', 'valhuman02-06.png', 'valhuman02-07.png', 'valhuman02-08.png', 'valhuman02-09.png', 'valhuman02-10.png', 'valhuman02-11.png', 'valhuman02-12.png', 'valhuman02-13.png', 'valhuman02-14.png', 'valhuman02-15.png', 'valhuman02-16.png', 'valhuman02-17.png', 'valhuman02-18.png', 'valhuman02-19.png', 'valhuman02-20.png', 'valhuman02-21.png', 'valhuman02-22.png', 'valhuman02-23.png', 'valhuman02-24.png', 'valhuman03-00.png', 'valhuman03-01.png', 'valhuman03-02.png', 'valhuman03-03.png', 'valhuman03-04.png', 'valhuman03-05.png', 'valhuman03-06.png', 'valhuman03-07.png', 'valhuman03-08.png', 'valhuman03-09.png', 'valhuman03-10.png', 'valhuman03-11.png', 'valhuman03-12.png', 'valhuman03-13.png', 'valhuman03-14.png', 'valhuman03-15.png', 'valhuman03-16.png', 'valhuman03-17.png', 'valhuman03-18.png', 'valhuman03-19.png', 'valhuman03-20.png', 'valhuman03-21.png', 'valhuman03-22.png', 'valhuman03-23.png', 'valhuman03-24.png', 'valhuman04-00.png', 'valhuman04-01.png', 'valhuman04-02.png', 'valhuman04-03.png', 'valhuman04-04.png', 'valhuman04-05.png', 'valhuman04-06.png', 'valhuman04-07.png', 'valhuman04-08.png', 'valhuman04-09.png', 'valhuman04-10.png', 'valhuman04-11.png', 'valhuman04-12.png', 'valhuman04-13.png', 'valhuman04-14.png', 'valhuman04-15.png', 'valhuman04-16.png', 'valhuman04-17.png', 'valhuman04-18.png', 'valhuman04-19.png', 'valhuman04-20.png', 'valhuman04-21.png', 'valhuman04-22.png', 'valhuman04-23.png', 'valhuman04-24.png', 'valhuman05-00.png', 'valhuman05-01.png', 'valhuman05-02.png', 'valhuman05-03.png', 'valhuman05-04.png', 'valhuman05-05.png', 'valhuman05-06.png', 'valhuman05-07.png', 'valhuman05-08.png', 'valhuman05-09.png', 'valhuman05-10.png', 'valhuman05-11.png', 'valhuman05-12.png', 'valhuman05-13.png', 'valhuman05-14.png', 'valhuman05-15.png', 'valhuman05-16.png', 'valhuman05-17.png', 'valhuman05-18.png', 'valhuman05-19.png', 'valhuman05-20.png', 'valhuman05-21.png', 'valhuman05-22.png', 'valhuman05-23.png', 'valhuman05-24.png', 'valhuman05-25.png', 'valhuman05-26.png', 'valhuman05-27.png']\n"
     ]
    }
   ],
   "source": [
    "#Locating the Validation dataset\n",
    "import os\n",
    "\n",
    "base_dir1 = 'validation-horse-or-human_Validation'\n",
    "\n",
    "print(\"Contents of base directory:\")\n",
    "print(os.listdir(base_dir1))\n",
    "\n",
    "print(\"\\nContents of the horses directory:\")\n",
    "print(os.listdir(f'{base_dir1}/horses'))\n",
    "\n",
    "print(\"\\nContents of humans directory:\")\n",
    "print(os.listdir(f'{base_dir1}/humans'))\n",
    "\n"
   ]
  },
  {
   "cell_type": "code",
   "execution_count": 8,
   "id": "77fbf7ac",
   "metadata": {},
   "outputs": [],
   "source": [
    "#Then we create the model\n",
    "from tensorflow.keras.models import Sequential\n",
    "#model =  Sequential()"
   ]
  },
  {
   "cell_type": "code",
   "execution_count": 9,
   "id": "847e6dde",
   "metadata": {},
   "outputs": [],
   "source": [
    "#importing the class used to create layers\n",
    "\n",
    "from  tensorflow.keras.layers import Dense, Conv2D, Flatten, Dropout"
   ]
  },
  {
   "cell_type": "code",
   "execution_count": 10,
   "id": "fe9928b7",
   "metadata": {},
   "outputs": [],
   "source": [
    "#imporing the class to create another set of layers\n",
    "\n",
    "from tensorflow.keras.layers import MaxPooling2D, GlobalMaxPooling2D"
   ]
  },
  {
   "cell_type": "code",
   "execution_count": 11,
   "id": "0bc96338",
   "metadata": {},
   "outputs": [],
   "source": [
    "# import the class to perform encoding\n",
    "\n",
    "from tensorflow.keras.utils import to_categorical"
   ]
  },
  {
   "cell_type": "code",
   "execution_count": 12,
   "id": "948f324b",
   "metadata": {},
   "outputs": [
    {
     "name": "stderr",
     "output_type": "stream",
     "text": [
      "C:\\Users\\visit\\anaconda3\\Lib\\site-packages\\keras\\src\\layers\\convolutional\\base_conv.py:107: UserWarning: Do not pass an `input_shape`/`input_dim` argument to a layer. When using Sequential models, prefer using an `Input(shape)` object as the first layer in the model instead.\n",
      "  super().__init__(activity_regularizer=activity_regularizer, **kwargs)\n"
     ]
    }
   ],
   "source": [
    "#Creating the model with the layers\n",
    "\n",
    "\n",
    "model = Sequential([\n",
    "    # Note the input shape is the desired size of the image 150x150 with 3 bytes color\n",
    "Conv2D(16, (3,3), activation='relu', input_shape=(150, 150, 3)),\n",
    "MaxPooling2D(2,2),\n",
    "   Conv2D(32, (3,3), activation='relu'),\n",
    "MaxPooling2D(2,2),\n",
    "Conv2D(64, (3,3), activation='relu'),\n",
    " MaxPooling2D(2,2),\n",
    "    # Flatten the results to feed into a DNN\n",
    "Flatten(),\n",
    "    # 512 neuron hidden layer\n",
    "Dense(512, activation='relu'),\n",
    "    # Only 1 output neuron. It will contain a value from 0-1 where 0 for 1 class ('cats') and 1 for the other ('dogs')\n",
    "Dense(1, activation='sigmoid')\n",
    "])\n"
   ]
  },
  {
   "cell_type": "code",
   "execution_count": 13,
   "id": "5b7ffa17",
   "metadata": {},
   "outputs": [
    {
     "data": {
      "text/html": [
       "<pre style=\"white-space:pre;overflow-x:auto;line-height:normal;font-family:Menlo,'DejaVu Sans Mono',consolas,'Courier New',monospace\"><span style=\"font-weight: bold\">Model: \"sequential\"</span>\n",
       "</pre>\n"
      ],
      "text/plain": [
       "\u001b[1mModel: \"sequential\"\u001b[0m\n"
      ]
     },
     "metadata": {},
     "output_type": "display_data"
    },
    {
     "data": {
      "text/html": [
       "<pre style=\"white-space:pre;overflow-x:auto;line-height:normal;font-family:Menlo,'DejaVu Sans Mono',consolas,'Courier New',monospace\">┏━━━━━━━━━━━━━━━━━━━━━━━━━━━━━━━━━┳━━━━━━━━━━━━━━━━━━━━━━━━┳━━━━━━━━━━━━━━━┓\n",
       "┃<span style=\"font-weight: bold\"> Layer (type)                    </span>┃<span style=\"font-weight: bold\"> Output Shape           </span>┃<span style=\"font-weight: bold\">       Param # </span>┃\n",
       "┡━━━━━━━━━━━━━━━━━━━━━━━━━━━━━━━━━╇━━━━━━━━━━━━━━━━━━━━━━━━╇━━━━━━━━━━━━━━━┩\n",
       "│ conv2d (<span style=\"color: #0087ff; text-decoration-color: #0087ff\">Conv2D</span>)                 │ (<span style=\"color: #00d7ff; text-decoration-color: #00d7ff\">None</span>, <span style=\"color: #00af00; text-decoration-color: #00af00\">148</span>, <span style=\"color: #00af00; text-decoration-color: #00af00\">148</span>, <span style=\"color: #00af00; text-decoration-color: #00af00\">16</span>)   │           <span style=\"color: #00af00; text-decoration-color: #00af00\">448</span> │\n",
       "├─────────────────────────────────┼────────────────────────┼───────────────┤\n",
       "│ max_pooling2d (<span style=\"color: #0087ff; text-decoration-color: #0087ff\">MaxPooling2D</span>)    │ (<span style=\"color: #00d7ff; text-decoration-color: #00d7ff\">None</span>, <span style=\"color: #00af00; text-decoration-color: #00af00\">74</span>, <span style=\"color: #00af00; text-decoration-color: #00af00\">74</span>, <span style=\"color: #00af00; text-decoration-color: #00af00\">16</span>)     │             <span style=\"color: #00af00; text-decoration-color: #00af00\">0</span> │\n",
       "├─────────────────────────────────┼────────────────────────┼───────────────┤\n",
       "│ conv2d_1 (<span style=\"color: #0087ff; text-decoration-color: #0087ff\">Conv2D</span>)               │ (<span style=\"color: #00d7ff; text-decoration-color: #00d7ff\">None</span>, <span style=\"color: #00af00; text-decoration-color: #00af00\">72</span>, <span style=\"color: #00af00; text-decoration-color: #00af00\">72</span>, <span style=\"color: #00af00; text-decoration-color: #00af00\">32</span>)     │         <span style=\"color: #00af00; text-decoration-color: #00af00\">4,640</span> │\n",
       "├─────────────────────────────────┼────────────────────────┼───────────────┤\n",
       "│ max_pooling2d_1 (<span style=\"color: #0087ff; text-decoration-color: #0087ff\">MaxPooling2D</span>)  │ (<span style=\"color: #00d7ff; text-decoration-color: #00d7ff\">None</span>, <span style=\"color: #00af00; text-decoration-color: #00af00\">36</span>, <span style=\"color: #00af00; text-decoration-color: #00af00\">36</span>, <span style=\"color: #00af00; text-decoration-color: #00af00\">32</span>)     │             <span style=\"color: #00af00; text-decoration-color: #00af00\">0</span> │\n",
       "├─────────────────────────────────┼────────────────────────┼───────────────┤\n",
       "│ conv2d_2 (<span style=\"color: #0087ff; text-decoration-color: #0087ff\">Conv2D</span>)               │ (<span style=\"color: #00d7ff; text-decoration-color: #00d7ff\">None</span>, <span style=\"color: #00af00; text-decoration-color: #00af00\">34</span>, <span style=\"color: #00af00; text-decoration-color: #00af00\">34</span>, <span style=\"color: #00af00; text-decoration-color: #00af00\">64</span>)     │        <span style=\"color: #00af00; text-decoration-color: #00af00\">18,496</span> │\n",
       "├─────────────────────────────────┼────────────────────────┼───────────────┤\n",
       "│ max_pooling2d_2 (<span style=\"color: #0087ff; text-decoration-color: #0087ff\">MaxPooling2D</span>)  │ (<span style=\"color: #00d7ff; text-decoration-color: #00d7ff\">None</span>, <span style=\"color: #00af00; text-decoration-color: #00af00\">17</span>, <span style=\"color: #00af00; text-decoration-color: #00af00\">17</span>, <span style=\"color: #00af00; text-decoration-color: #00af00\">64</span>)     │             <span style=\"color: #00af00; text-decoration-color: #00af00\">0</span> │\n",
       "├─────────────────────────────────┼────────────────────────┼───────────────┤\n",
       "│ flatten (<span style=\"color: #0087ff; text-decoration-color: #0087ff\">Flatten</span>)               │ (<span style=\"color: #00d7ff; text-decoration-color: #00d7ff\">None</span>, <span style=\"color: #00af00; text-decoration-color: #00af00\">18496</span>)          │             <span style=\"color: #00af00; text-decoration-color: #00af00\">0</span> │\n",
       "├─────────────────────────────────┼────────────────────────┼───────────────┤\n",
       "│ dense (<span style=\"color: #0087ff; text-decoration-color: #0087ff\">Dense</span>)                   │ (<span style=\"color: #00d7ff; text-decoration-color: #00d7ff\">None</span>, <span style=\"color: #00af00; text-decoration-color: #00af00\">512</span>)            │     <span style=\"color: #00af00; text-decoration-color: #00af00\">9,470,464</span> │\n",
       "├─────────────────────────────────┼────────────────────────┼───────────────┤\n",
       "│ dense_1 (<span style=\"color: #0087ff; text-decoration-color: #0087ff\">Dense</span>)                 │ (<span style=\"color: #00d7ff; text-decoration-color: #00d7ff\">None</span>, <span style=\"color: #00af00; text-decoration-color: #00af00\">1</span>)              │           <span style=\"color: #00af00; text-decoration-color: #00af00\">513</span> │\n",
       "└─────────────────────────────────┴────────────────────────┴───────────────┘\n",
       "</pre>\n"
      ],
      "text/plain": [
       "┏━━━━━━━━━━━━━━━━━━━━━━━━━━━━━━━━━┳━━━━━━━━━━━━━━━━━━━━━━━━┳━━━━━━━━━━━━━━━┓\n",
       "┃\u001b[1m \u001b[0m\u001b[1mLayer (type)                   \u001b[0m\u001b[1m \u001b[0m┃\u001b[1m \u001b[0m\u001b[1mOutput Shape          \u001b[0m\u001b[1m \u001b[0m┃\u001b[1m \u001b[0m\u001b[1m      Param #\u001b[0m\u001b[1m \u001b[0m┃\n",
       "┡━━━━━━━━━━━━━━━━━━━━━━━━━━━━━━━━━╇━━━━━━━━━━━━━━━━━━━━━━━━╇━━━━━━━━━━━━━━━┩\n",
       "│ conv2d (\u001b[38;5;33mConv2D\u001b[0m)                 │ (\u001b[38;5;45mNone\u001b[0m, \u001b[38;5;34m148\u001b[0m, \u001b[38;5;34m148\u001b[0m, \u001b[38;5;34m16\u001b[0m)   │           \u001b[38;5;34m448\u001b[0m │\n",
       "├─────────────────────────────────┼────────────────────────┼───────────────┤\n",
       "│ max_pooling2d (\u001b[38;5;33mMaxPooling2D\u001b[0m)    │ (\u001b[38;5;45mNone\u001b[0m, \u001b[38;5;34m74\u001b[0m, \u001b[38;5;34m74\u001b[0m, \u001b[38;5;34m16\u001b[0m)     │             \u001b[38;5;34m0\u001b[0m │\n",
       "├─────────────────────────────────┼────────────────────────┼───────────────┤\n",
       "│ conv2d_1 (\u001b[38;5;33mConv2D\u001b[0m)               │ (\u001b[38;5;45mNone\u001b[0m, \u001b[38;5;34m72\u001b[0m, \u001b[38;5;34m72\u001b[0m, \u001b[38;5;34m32\u001b[0m)     │         \u001b[38;5;34m4,640\u001b[0m │\n",
       "├─────────────────────────────────┼────────────────────────┼───────────────┤\n",
       "│ max_pooling2d_1 (\u001b[38;5;33mMaxPooling2D\u001b[0m)  │ (\u001b[38;5;45mNone\u001b[0m, \u001b[38;5;34m36\u001b[0m, \u001b[38;5;34m36\u001b[0m, \u001b[38;5;34m32\u001b[0m)     │             \u001b[38;5;34m0\u001b[0m │\n",
       "├─────────────────────────────────┼────────────────────────┼───────────────┤\n",
       "│ conv2d_2 (\u001b[38;5;33mConv2D\u001b[0m)               │ (\u001b[38;5;45mNone\u001b[0m, \u001b[38;5;34m34\u001b[0m, \u001b[38;5;34m34\u001b[0m, \u001b[38;5;34m64\u001b[0m)     │        \u001b[38;5;34m18,496\u001b[0m │\n",
       "├─────────────────────────────────┼────────────────────────┼───────────────┤\n",
       "│ max_pooling2d_2 (\u001b[38;5;33mMaxPooling2D\u001b[0m)  │ (\u001b[38;5;45mNone\u001b[0m, \u001b[38;5;34m17\u001b[0m, \u001b[38;5;34m17\u001b[0m, \u001b[38;5;34m64\u001b[0m)     │             \u001b[38;5;34m0\u001b[0m │\n",
       "├─────────────────────────────────┼────────────────────────┼───────────────┤\n",
       "│ flatten (\u001b[38;5;33mFlatten\u001b[0m)               │ (\u001b[38;5;45mNone\u001b[0m, \u001b[38;5;34m18496\u001b[0m)          │             \u001b[38;5;34m0\u001b[0m │\n",
       "├─────────────────────────────────┼────────────────────────┼───────────────┤\n",
       "│ dense (\u001b[38;5;33mDense\u001b[0m)                   │ (\u001b[38;5;45mNone\u001b[0m, \u001b[38;5;34m512\u001b[0m)            │     \u001b[38;5;34m9,470,464\u001b[0m │\n",
       "├─────────────────────────────────┼────────────────────────┼───────────────┤\n",
       "│ dense_1 (\u001b[38;5;33mDense\u001b[0m)                 │ (\u001b[38;5;45mNone\u001b[0m, \u001b[38;5;34m1\u001b[0m)              │           \u001b[38;5;34m513\u001b[0m │\n",
       "└─────────────────────────────────┴────────────────────────┴───────────────┘\n"
      ]
     },
     "metadata": {},
     "output_type": "display_data"
    },
    {
     "data": {
      "text/html": [
       "<pre style=\"white-space:pre;overflow-x:auto;line-height:normal;font-family:Menlo,'DejaVu Sans Mono',consolas,'Courier New',monospace\"><span style=\"font-weight: bold\"> Total params: </span><span style=\"color: #00af00; text-decoration-color: #00af00\">9,494,561</span> (36.22 MB)\n",
       "</pre>\n"
      ],
      "text/plain": [
       "\u001b[1m Total params: \u001b[0m\u001b[38;5;34m9,494,561\u001b[0m (36.22 MB)\n"
      ]
     },
     "metadata": {},
     "output_type": "display_data"
    },
    {
     "data": {
      "text/html": [
       "<pre style=\"white-space:pre;overflow-x:auto;line-height:normal;font-family:Menlo,'DejaVu Sans Mono',consolas,'Courier New',monospace\"><span style=\"font-weight: bold\"> Trainable params: </span><span style=\"color: #00af00; text-decoration-color: #00af00\">9,494,561</span> (36.22 MB)\n",
       "</pre>\n"
      ],
      "text/plain": [
       "\u001b[1m Trainable params: \u001b[0m\u001b[38;5;34m9,494,561\u001b[0m (36.22 MB)\n"
      ]
     },
     "metadata": {},
     "output_type": "display_data"
    },
    {
     "data": {
      "text/html": [
       "<pre style=\"white-space:pre;overflow-x:auto;line-height:normal;font-family:Menlo,'DejaVu Sans Mono',consolas,'Courier New',monospace\"><span style=\"font-weight: bold\"> Non-trainable params: </span><span style=\"color: #00af00; text-decoration-color: #00af00\">0</span> (0.00 B)\n",
       "</pre>\n"
      ],
      "text/plain": [
       "\u001b[1m Non-trainable params: \u001b[0m\u001b[38;5;34m0\u001b[0m (0.00 B)\n"
      ]
     },
     "metadata": {},
     "output_type": "display_data"
    }
   ],
   "source": [
    "model.summary()\n"
   ]
  },
  {
   "cell_type": "code",
   "execution_count": 14,
   "id": "22b9bf83",
   "metadata": {},
   "outputs": [],
   "source": [
    "#Compiling the components for backward propagation in a model\n",
    "from tensorflow.keras.optimizers import RMSprop\n",
    "\n",
    "model.compile(optimizer=RMSprop(learning_rate=0.001),\n",
    "              loss='binary_crossentropy',\n",
    "              metrics = ['accuracy'])\n"
   ]
  },
  {
   "cell_type": "code",
   "execution_count": 15,
   "id": "94ef0996",
   "metadata": {},
   "outputs": [
    {
     "name": "stdout",
     "output_type": "stream",
     "text": [
      "Found 1027 images belonging to 2 classes.\n",
      "Found 256 images belonging to 2 classes.\n"
     ]
    }
   ],
   "source": [
    "#Loading The Train Images with the Image Augmentation Technique\n",
    "from tensorflow.keras.preprocessing.image import ImageDataGenerator\n",
    "\n",
    "# All images will be rescaled by 1./255.\n",
    "train_datagen = ImageDataGenerator( rescale = 1.0/255. )\n",
    "test_datagen  = ImageDataGenerator( rescale = 1.0/255. )\n",
    "\n",
    "# --------------------\n",
    "# Flow training images in batches of 20 using train_datagen generator\n",
    "# --------------------\n",
    "train_generator = train_datagen.flow_from_directory(base_dir,\n",
    "                                                    batch_size=20,\n",
    "                                                    class_mode='binary',\n",
    "                                                    target_size=(150, 150))\n",
    "# --------------------\n",
    "# Flow validation images in batches of 20 using test_datagen generator\n",
    "# --------------------\n",
    "validation_generator =  test_datagen.flow_from_directory(base_dir1,\n",
    "                                                         batch_size=20,\n",
    "                                                         class_mode  = 'binary',\n",
    "                                                         target_size = (150, 150))\n",
    "\n",
    "\n"
   ]
  },
  {
   "cell_type": "code",
   "execution_count": 16,
   "id": "1ed9780c",
   "metadata": {},
   "outputs": [
    {
     "name": "stdout",
     "output_type": "stream",
     "text": [
      "Epoch 1/15\n"
     ]
    },
    {
     "name": "stderr",
     "output_type": "stream",
     "text": [
      "C:\\Users\\visit\\anaconda3\\Lib\\site-packages\\keras\\src\\trainers\\data_adapters\\py_dataset_adapter.py:121: UserWarning: Your `PyDataset` class should call `super().__init__(**kwargs)` in its constructor. `**kwargs` can include `workers`, `use_multiprocessing`, `max_queue_size`. Do not pass these arguments to `fit()`, as they will be ignored.\n",
      "  self._warn_if_super_not_called()\n"
     ]
    },
    {
     "name": "stdout",
     "output_type": "stream",
     "text": [
      "52/52 - 18s - 344ms/step - accuracy: 0.7809 - loss: 0.4705 - val_accuracy: 0.7422 - val_loss: 1.4056\n",
      "Epoch 2/15\n",
      "52/52 - 14s - 271ms/step - accuracy: 0.9523 - loss: 0.1052 - val_accuracy: 0.8047 - val_loss: 1.8218\n",
      "Epoch 3/15\n",
      "52/52 - 14s - 267ms/step - accuracy: 0.9747 - loss: 0.1508 - val_accuracy: 0.7852 - val_loss: 2.7188\n",
      "Epoch 4/15\n",
      "52/52 - 15s - 283ms/step - accuracy: 0.9834 - loss: 0.0577 - val_accuracy: 0.8789 - val_loss: 1.2448\n",
      "Epoch 5/15\n",
      "52/52 - 15s - 292ms/step - accuracy: 0.9990 - loss: 0.0041 - val_accuracy: 0.8359 - val_loss: 3.1388\n",
      "Epoch 6/15\n",
      "52/52 - 14s - 277ms/step - accuracy: 0.9893 - loss: 0.0400 - val_accuracy: 0.8398 - val_loss: 2.5795\n",
      "Epoch 7/15\n",
      "52/52 - 15s - 295ms/step - accuracy: 1.0000 - loss: 9.6711e-04 - val_accuracy: 0.6641 - val_loss: 13.9308\n",
      "Epoch 8/15\n",
      "52/52 - 16s - 305ms/step - accuracy: 0.9864 - loss: 0.1608 - val_accuracy: 0.8203 - val_loss: 3.9659\n",
      "Epoch 9/15\n",
      "52/52 - 15s - 296ms/step - accuracy: 1.0000 - loss: 2.3779e-04 - val_accuracy: 0.8281 - val_loss: 4.2726\n",
      "Epoch 10/15\n",
      "52/52 - 16s - 301ms/step - accuracy: 0.9854 - loss: 0.1367 - val_accuracy: 0.8281 - val_loss: 4.0685\n",
      "Epoch 11/15\n",
      "52/52 - 16s - 304ms/step - accuracy: 1.0000 - loss: 1.8992e-04 - val_accuracy: 0.8281 - val_loss: 4.6405\n",
      "Epoch 12/15\n",
      "52/52 - 15s - 279ms/step - accuracy: 1.0000 - loss: 4.1762e-05 - val_accuracy: 0.8281 - val_loss: 5.3853\n",
      "Epoch 13/15\n",
      "52/52 - 14s - 263ms/step - accuracy: 0.9873 - loss: 0.0762 - val_accuracy: 0.7891 - val_loss: 7.0404\n",
      "Epoch 14/15\n",
      "52/52 - 14s - 267ms/step - accuracy: 1.0000 - loss: 4.6953e-04 - val_accuracy: 0.8203 - val_loss: 4.9176\n",
      "Epoch 15/15\n",
      "52/52 - 14s - 266ms/step - accuracy: 1.0000 - loss: 4.4868e-05 - val_accuracy: 0.8203 - val_loss: 4.9641\n"
     ]
    }
   ],
   "source": [
    "#Training the dataset\n",
    "history = model.fit(\n",
    "            train_generator,\n",
    "            epochs=15,\n",
    "            validation_data=validation_generator,\n",
    "            verbose=2\n",
    "            )\n",
    "\n",
    "\n",
    "#The train_generator holds the training dataset, while the validation_generator is where the validation dataset is stored\n"
   ]
  },
  {
   "cell_type": "code",
   "execution_count": 3,
   "id": "302a7d0d",
   "metadata": {},
   "outputs": [
    {
     "name": "stdout",
     "output_type": "stream",
     "text": [
      "#Visualizing the accuracy of both training and validation dataset\n",
      "\n",
      "acc      = history.history[     'accuracy' ]\n",
      "val_acc  = history.history[ 'val_accuracy' ]\n",
      "loss     = history.history[    'loss' ]\n",
      "val_loss = history.history['val_loss' ]\n",
      "\n",
      "epochs   = range(len(acc)) # Get number of epochs\n",
      "\n",
      "#------------------------------------------------\n",
      "# Plot training and validation accuracy per epoch\n",
      "#------------------------------------------------\n",
      "plt.plot  ( epochs,     acc )\n",
      "plt.plot  ( epochs, val_acc )\n",
      "plt.title ('Training and validation accuracy')\n",
      "plt.figure()\n",
      "plt.plot(epochs, acc, 'r', label='Training accuracy')\n",
      "plt.plot(epochs, val_acc, 'b', label='Validation accuracy')\n",
      "#Visualizing the accuracy of both training and validation dataset\n",
      "\n",
      "acc      = history.history[     'accuracy' ]\n",
      "val_acc  = history.history[ 'val_accuracy' ]\n",
      "loss     = history.history[    'loss' ]\n",
      "val_loss = history.history['val_loss' ]\n",
      "\n",
      "epochs   = range(len(acc)) # Get number of epochs\n",
      "\n",
      "#------------------------------------------------\n",
      "# Plot training and validation accuracy per epoch\n",
      "#------------------------------------------------\n",
      "plt.plot  ( epochs,     acc )\n",
      "plt.plot  ( epochs, val_acc )\n",
      "plt.title ('Training and validation accuracy')\n",
      "plt.figure()\n",
      "history\n"
     ]
    }
   ],
   "source": [
    "history"
   ]
  },
  {
   "cell_type": "code",
   "execution_count": 4,
   "id": "e369e3d5",
   "metadata": {},
   "outputs": [
    {
     "ename": "NameError",
     "evalue": "name 'history' is not defined",
     "output_type": "error",
     "traceback": [
      "\u001b[1;31m---------------------------------------------------------------------------\u001b[0m",
      "\u001b[1;31mNameError\u001b[0m                                 Traceback (most recent call last)",
      "Cell \u001b[1;32mIn[4], line 3\u001b[0m\n\u001b[0;32m      1\u001b[0m \u001b[38;5;66;03m#Visualizing the training and validation accuracy \u001b[39;00m\n\u001b[0;32m      2\u001b[0m \u001b[38;5;28;01mimport\u001b[39;00m \u001b[38;5;21;01mmatplotlib\u001b[39;00m\u001b[38;5;21;01m.\u001b[39;00m\u001b[38;5;21;01mpyplot\u001b[39;00m \u001b[38;5;28;01mas\u001b[39;00m \u001b[38;5;21;01mplt\u001b[39;00m\n\u001b[1;32m----> 3\u001b[0m acc \u001b[38;5;241m=\u001b[39m history\u001b[38;5;241m.\u001b[39mhistory[\u001b[38;5;124m'\u001b[39m\u001b[38;5;124maccuracy\u001b[39m\u001b[38;5;124m'\u001b[39m]\n\u001b[0;32m      4\u001b[0m val_acc \u001b[38;5;241m=\u001b[39m history\u001b[38;5;241m.\u001b[39mhistory[\u001b[38;5;124m'\u001b[39m\u001b[38;5;124mval_accuracy\u001b[39m\u001b[38;5;124m'\u001b[39m]\n\u001b[0;32m      5\u001b[0m loss \u001b[38;5;241m=\u001b[39m history\u001b[38;5;241m.\u001b[39mhistory[\u001b[38;5;124m'\u001b[39m\u001b[38;5;124mloss\u001b[39m\u001b[38;5;124m'\u001b[39m]\n",
      "\u001b[1;31mNameError\u001b[0m: name 'history' is not defined"
     ]
    }
   ],
   "source": [
    "#Visualizing the training and validation accuracy \n",
    "import matplotlib.pyplot as plt\n",
    "acc = history.history['accuracy']\n",
    "val_acc = history.history['val_accuracy']\n",
    "loss = history.history['loss']\n",
    "val_loss = history.history['val_loss']\n",
    "\n",
    "epochs = range(len(acc))\n",
    "\n",
    "plt.plot(epochs, acc, 'r', label='Training accuracy')\n",
    "plt.plot(epochs, val_acc, 'b', label='Validation accuracy')\n",
    "plt.title('Training and validation accuracy')\n",
    "plt.legend(loc=0)\n",
    "plt.figure()\n",
    "\n",
    "\n",
    "plt.show()\n",
    "\n"
   ]
  },
  {
   "cell_type": "code",
   "execution_count": null,
   "id": "1b4c8505",
   "metadata": {},
   "outputs": [],
   "source": []
  }
 ],
 "metadata": {
  "kernelspec": {
   "display_name": "Python 3 (ipykernel)",
   "language": "python",
   "name": "python3"
  },
  "language_info": {
   "codemirror_mode": {
    "name": "ipython",
    "version": 3
   },
   "file_extension": ".py",
   "mimetype": "text/x-python",
   "name": "python",
   "nbconvert_exporter": "python",
   "pygments_lexer": "ipython3",
   "version": "3.11.5"
  }
 },
 "nbformat": 4,
 "nbformat_minor": 5
}
